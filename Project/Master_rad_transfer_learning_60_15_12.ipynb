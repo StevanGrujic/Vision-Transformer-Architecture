{
 "cells": [
  {
   "cell_type": "markdown",
   "id": "b19671e0-e7bb-47c4-979e-dec12dcc1afa",
   "metadata": {},
   "source": [
    "<div style=\"border-radius:10px;\n",
    "            background-color:#ffffff;\n",
    "            letter-spacing:0.5px; text-align: center;\">\n",
    "\n",
    "<h2 style=\"padding: 5px 0px; color:#0b0265; font-weight: bold; font-family: Comic Sans MS\">\n",
    "Увоз библиотека</h2>\n",
    "</div>"
   ]
  },
  {
   "cell_type": "code",
   "execution_count": 1,
   "id": "0640f24d-e8a0-447a-bdec-cf3b7e0f4383",
   "metadata": {},
   "outputs": [],
   "source": [
    "import torch\n",
    "import matplotlib.pyplot as plt\n",
    "import torchvision\n",
    "from torchvision import datasets, transforms\n",
    "from torch.utils.data import DataLoader\n",
    "from torch import nn\n",
    "from torchvision import transforms"
   ]
  },
  {
   "cell_type": "code",
   "execution_count": 2,
   "id": "8a4ccc8a-a726-4acf-8001-84a7d7460d3a",
   "metadata": {},
   "outputs": [
    {
     "data": {
      "text/plain": [
       "'cuda'"
      ]
     },
     "execution_count": 2,
     "metadata": {},
     "output_type": "execute_result"
    }
   ],
   "source": [
    "device = \"cuda\" if torch.cuda.is_available() else \"cpu\"\n",
    "device"
   ]
  },
  {
   "cell_type": "markdown",
   "id": "c6d6f195-d52c-4d9a-8275-64e3e49becb9",
   "metadata": {},
   "source": [
    "<div style=\"border-radius:10px;\n",
    "            background-color:#ffffff;\n",
    "            letter-spacing:0.5px; text-align: center;\">\n",
    "\n",
    "<h2 style=\"padding: 5px 0px; color:#0b0265; font-weight: bold; font-family: Comic Sans MS\">\n",
    "Учитавање података и модела</h2>\n",
    "</div>"
   ]
  },
  {
   "cell_type": "code",
   "execution_count": 3,
   "id": "781e5623-3136-496a-99cb-1d3c0f8858bd",
   "metadata": {},
   "outputs": [],
   "source": [
    "def set_seeds(seed: int=42):\n",
    "    # Set the seed for general torch operations\n",
    "    torch.manual_seed(seed)\n",
    "    # Set the seed for CUDA torch operations (ones that happen on the GPU)\n",
    "    torch.cuda.manual_seed(seed)"
   ]
  },
  {
   "cell_type": "code",
   "execution_count": 4,
   "id": "4bb32698-b64f-4888-af73-7091a0326c41",
   "metadata": {},
   "outputs": [],
   "source": [
    "# Setup directory paths to train and test images\n",
    "train_dir = 'EPT100/train_512'\n",
    "val_dir = 'EPT100/val_512'\n",
    "test_dir = 'EPT100/test_512'"
   ]
  },
  {
   "cell_type": "code",
   "execution_count": 5,
   "id": "06e37a4a-961e-4ff1-8a80-61336a757bac",
   "metadata": {},
   "outputs": [],
   "source": [
    "train_data = datasets.ImageFolder(train_dir)"
   ]
  },
  {
   "cell_type": "code",
   "execution_count": 6,
   "id": "8a6302e7-cf62-460a-b04a-cd72479ed946",
   "metadata": {},
   "outputs": [],
   "source": [
    "# 1. Get pretrained weights for ViT-Base\n",
    "pretrained_vit_weights = torchvision.models.ViT_B_16_Weights.DEFAULT\n",
    "\n",
    "# 2. Setup a ViT model instance with pretrained weights\n",
    "pretrained_vit = torchvision.models.vit_b_16(weights=pretrained_vit_weights).to(device)\n",
    "\n",
    "# 3. Freeze the base parameters\n",
    "for parameter in pretrained_vit.parameters():\n",
    "    parameter.requires_grad = False\n",
    "    \n",
    "# 4. Change the classifier head \n",
    "class_names = train_data.classes\n",
    "\n",
    "set_seeds(33)\n",
    "pretrained_vit.heads = nn.Linear(in_features=768, out_features=len(class_names)).to(device)"
   ]
  },
  {
   "cell_type": "code",
   "execution_count": 7,
   "id": "f9d94115-6a81-4ee1-a05b-8c97ece2a3a8",
   "metadata": {},
   "outputs": [
    {
     "name": "stderr",
     "output_type": "stream",
     "text": [
      "D:\\miniconda_instalacija\\envs\\master_rad\\lib\\site-packages\\torch\\nn\\modules\\activation.py:1196: UserWarning: 1Torch was not compiled with flash attention. (Triggered internally at C:\\cb\\pytorch_1000000000000\\work\\aten\\src\\ATen\\native\\transformers\\cuda\\sdp_utils.cpp:263.)\n",
      "  return torch._native_multi_head_attention(\n"
     ]
    },
    {
     "data": {
      "text/plain": [
       "============================================================================================================================================\n",
       "Layer (type (var_name))                                      Input Shape          Output Shape         Param #              Trainable\n",
       "============================================================================================================================================\n",
       "VisionTransformer (VisionTransformer)                        [32, 3, 224, 224]    [32, 100]            768                  Partial\n",
       "├─Conv2d (conv_proj)                                         [32, 3, 224, 224]    [32, 768, 14, 14]    (590,592)            False\n",
       "├─Encoder (encoder)                                          [32, 197, 768]       [32, 197, 768]       151,296              False\n",
       "│    └─Dropout (dropout)                                     [32, 197, 768]       [32, 197, 768]       --                   --\n",
       "│    └─Sequential (layers)                                   [32, 197, 768]       [32, 197, 768]       --                   False\n",
       "│    │    └─EncoderBlock (encoder_layer_0)                   [32, 197, 768]       [32, 197, 768]       (7,087,872)          False\n",
       "│    │    └─EncoderBlock (encoder_layer_1)                   [32, 197, 768]       [32, 197, 768]       (7,087,872)          False\n",
       "│    │    └─EncoderBlock (encoder_layer_2)                   [32, 197, 768]       [32, 197, 768]       (7,087,872)          False\n",
       "│    │    └─EncoderBlock (encoder_layer_3)                   [32, 197, 768]       [32, 197, 768]       (7,087,872)          False\n",
       "│    │    └─EncoderBlock (encoder_layer_4)                   [32, 197, 768]       [32, 197, 768]       (7,087,872)          False\n",
       "│    │    └─EncoderBlock (encoder_layer_5)                   [32, 197, 768]       [32, 197, 768]       (7,087,872)          False\n",
       "│    │    └─EncoderBlock (encoder_layer_6)                   [32, 197, 768]       [32, 197, 768]       (7,087,872)          False\n",
       "│    │    └─EncoderBlock (encoder_layer_7)                   [32, 197, 768]       [32, 197, 768]       (7,087,872)          False\n",
       "│    │    └─EncoderBlock (encoder_layer_8)                   [32, 197, 768]       [32, 197, 768]       (7,087,872)          False\n",
       "│    │    └─EncoderBlock (encoder_layer_9)                   [32, 197, 768]       [32, 197, 768]       (7,087,872)          False\n",
       "│    │    └─EncoderBlock (encoder_layer_10)                  [32, 197, 768]       [32, 197, 768]       (7,087,872)          False\n",
       "│    │    └─EncoderBlock (encoder_layer_11)                  [32, 197, 768]       [32, 197, 768]       (7,087,872)          False\n",
       "│    └─LayerNorm (ln)                                        [32, 197, 768]       [32, 197, 768]       (1,536)              False\n",
       "├─Linear (heads)                                             [32, 768]            [32, 100]            76,900               True\n",
       "============================================================================================================================================\n",
       "Total params: 85,875,556\n",
       "Trainable params: 76,900\n",
       "Non-trainable params: 85,798,656\n",
       "Total mult-adds (G): 5.52\n",
       "============================================================================================================================================\n",
       "Input size (MB): 19.27\n",
       "Forward/backward pass size (MB): 3330.76\n",
       "Params size (MB): 229.50\n",
       "Estimated Total Size (MB): 3579.53\n",
       "============================================================================================================================================"
      ]
     },
     "execution_count": 7,
     "metadata": {},
     "output_type": "execute_result"
    }
   ],
   "source": [
    "from torchinfo import summary\n",
    "\n",
    "# Print a summary using torchinfo (uncomment for actual output)\n",
    "summary(model=pretrained_vit, \n",
    "        input_size=(32, 3, 224, 224), # (batch_size, color_channels, height, width)\n",
    "        # col_names=[\"input_size\"], # uncomment for smaller output\n",
    "        col_names=[\"input_size\", \"output_size\", \"num_params\", \"trainable\"],\n",
    "        col_width=20,\n",
    "        row_settings=[\"var_names\"]\n",
    ")"
   ]
  },
  {
   "cell_type": "code",
   "execution_count": 8,
   "id": "a08294b9-dbbc-482f-bddb-d15c11d49480",
   "metadata": {},
   "outputs": [
    {
     "name": "stdout",
     "output_type": "stream",
     "text": [
      "ImageClassification(\n",
      "    crop_size=[224]\n",
      "    resize_size=[256]\n",
      "    mean=[0.485, 0.456, 0.406]\n",
      "    std=[0.229, 0.224, 0.225]\n",
      "    interpolation=InterpolationMode.BILINEAR\n",
      ")\n"
     ]
    }
   ],
   "source": [
    "# Get automatic transforms from pretrained ViT weights\n",
    "pretrained_vit_transforms = pretrained_vit_weights.transforms()\n",
    "print(pretrained_vit_transforms)"
   ]
  },
  {
   "cell_type": "code",
   "execution_count": 9,
   "id": "313bfabe-ad6a-4898-966c-6e47ee4a38ae",
   "metadata": {},
   "outputs": [],
   "source": [
    "import os\n",
    "\n",
    "NUM_WORKERS = os.cpu_count()\n",
    "\n",
    "def create_dataloaders(train_dir: str, test_dir: str, val_dir: str, transform: transforms.Compose, batch_size: int, num_workers: int=NUM_WORKERS):\n",
    "\n",
    "  # Use ImageFolder to create dataset(s)\n",
    "  train_data = datasets.ImageFolder(train_dir, transform=transform)\n",
    "  test_data = datasets.ImageFolder(test_dir, transform=transform)\n",
    "  val_data = datasets.ImageFolder(val_dir, transform = transform)\n",
    "\n",
    "  # Get class names\n",
    "  class_names = train_data.classes\n",
    "\n",
    "  # Turn images into data loaders\n",
    "  train_dataloader = DataLoader(\n",
    "      train_data,\n",
    "      batch_size=batch_size,\n",
    "      shuffle=True,\n",
    "      num_workers=num_workers,\n",
    "      pin_memory=True,\n",
    "  )\n",
    "    \n",
    "  val_dataloader = DataLoader(\n",
    "      val_data,\n",
    "      batch_size=batch_size,\n",
    "      shuffle=False,\n",
    "      num_workers=num_workers,\n",
    "      pin_memory=True,\n",
    "  )\n",
    "    \n",
    "  test_dataloader = DataLoader(\n",
    "      test_data,\n",
    "      batch_size=batch_size,\n",
    "      shuffle=False,\n",
    "      num_workers=num_workers,\n",
    "      pin_memory=True,\n",
    "  )\n",
    "\n",
    "  return train_dataloader, val_dataloader, test_dataloader, class_names"
   ]
  },
  {
   "cell_type": "code",
   "execution_count": 10,
   "id": "bc8b9a4a-b884-4295-99c9-44887b39eb1c",
   "metadata": {},
   "outputs": [],
   "source": [
    "# Setup dataloaders\n",
    "train_dataloader_pretrained, val_dataloader_pretrained, test_dataloader_pretrained, class_names = create_dataloaders(train_dir=train_dir,\n",
    "                                                                                                     test_dir=test_dir,\n",
    "                                                                                                     val_dir=val_dir,\n",
    "                                                                                                     transform=pretrained_vit_transforms,\n",
    "                                                                                                     batch_size=32)"
   ]
  },
  {
   "cell_type": "markdown",
   "id": "208f5889-2862-43a8-abe9-93ca74b39ca5",
   "metadata": {},
   "source": [
    "<div style=\"border-radius:10px;\n",
    "            background-color:#ffffff;\n",
    "            letter-spacing:0.5px; text-align: center;\">\n",
    "\n",
    "<h2 style=\"padding: 5px 0px; color:#0b0265; font-weight: bold; font-family: Comic Sans MS\">\n",
    "Тренирање модела</h2>\n",
    "</div>"
   ]
  },
  {
   "cell_type": "code",
   "execution_count": 12,
   "id": "b6ebae7d-5535-4487-9691-f56b8d068d3d",
   "metadata": {
    "scrolled": true
   },
   "outputs": [
    {
     "data": {
      "application/vnd.jupyter.widget-view+json": {
       "model_id": "7382ca10c02640c59f918f7d6e621b24",
       "version_major": 2,
       "version_minor": 0
      },
      "text/plain": [
       "  0%|          | 0/60 [00:00<?, ?it/s]"
      ]
     },
     "metadata": {},
     "output_type": "display_data"
    },
    {
     "name": "stdout",
     "output_type": "stream",
     "text": [
      "Epoch: 1 | train_loss: 0.8380 | train_acc: 0.8137 | val_loss: 0.2932 | val_acc: 0.9325 | learning_rate: 0.003000\n",
      "Epoch: 2 | train_loss: 0.1289 | train_acc: 0.9768 | val_loss: 0.2063 | val_acc: 0.9460 | learning_rate: 0.003000\n",
      "Epoch: 3 | train_loss: 0.0630 | train_acc: 0.9902 | val_loss: 0.1721 | val_acc: 0.9578 | learning_rate: 0.003000\n",
      "Epoch: 4 | train_loss: 0.0354 | train_acc: 0.9970 | val_loss: 0.1713 | val_acc: 0.9552 | learning_rate: 0.003000\n",
      "Epoch: 5 | train_loss: 0.0237 | train_acc: 0.9985 | val_loss: 0.1405 | val_acc: 0.9646 | learning_rate: 0.003000\n",
      "Epoch: 6 | train_loss: 0.0159 | train_acc: 0.9988 | val_loss: 0.1299 | val_acc: 0.9652 | learning_rate: 0.003000\n",
      "Epoch: 7 | train_loss: 0.0119 | train_acc: 0.9990 | val_loss: 0.1302 | val_acc: 0.9629 | learning_rate: 0.003000\n",
      "Epoch: 8 | train_loss: 0.0112 | train_acc: 0.9983 | val_loss: 0.1242 | val_acc: 0.9640 | learning_rate: 0.003000\n",
      "Epoch: 9 | train_loss: 0.0072 | train_acc: 0.9998 | val_loss: 0.1140 | val_acc: 0.9670 | learning_rate: 0.003000\n",
      "Epoch: 10 | train_loss: 0.0058 | train_acc: 0.9998 | val_loss: 0.1205 | val_acc: 0.9649 | learning_rate: 0.003000\n",
      "Epoch: 11 | train_loss: 0.0059 | train_acc: 0.9995 | val_loss: 0.1112 | val_acc: 0.9693 | learning_rate: 0.003000\n",
      "Epoch: 12 | train_loss: 0.0042 | train_acc: 0.9998 | val_loss: 0.1105 | val_acc: 0.9688 | learning_rate: 0.003000\n",
      "Epoch: 13 | train_loss: 0.0031 | train_acc: 1.0000 | val_loss: 0.1062 | val_acc: 0.9696 | learning_rate: 0.003000\n",
      "Epoch: 14 | train_loss: 0.0027 | train_acc: 1.0000 | val_loss: 0.1099 | val_acc: 0.9690 | learning_rate: 0.003000\n",
      "Epoch: 15 | train_loss: 0.0024 | train_acc: 0.9999 | val_loss: 0.1118 | val_acc: 0.9690 | learning_rate: 0.003000\n",
      "Epoch: 16 | train_loss: 0.0032 | train_acc: 0.9994 | val_loss: 0.1190 | val_acc: 0.9673 | learning_rate: 0.003000\n",
      "Epoch: 17 | train_loss: 0.0028 | train_acc: 0.9997 | val_loss: 0.1112 | val_acc: 0.9679 | learning_rate: 0.003000\n",
      "Epoch: 18 | train_loss: 0.0019 | train_acc: 0.9999 | val_loss: 0.1090 | val_acc: 0.9679 | learning_rate: 0.003000\n",
      "Epoch: 19 | train_loss: 0.0013 | train_acc: 1.0000 | val_loss: 0.1072 | val_acc: 0.9720 | learning_rate: 0.003000\n",
      "Epoch: 20 | train_loss: 0.0011 | train_acc: 1.0000 | val_loss: 0.1062 | val_acc: 0.9714 | learning_rate: 0.003000\n",
      "Epoch: 21 | train_loss: 0.0009 | train_acc: 1.0000 | val_loss: 0.1071 | val_acc: 0.9717 | learning_rate: 0.003000\n",
      "Epoch: 22 | train_loss: 0.0008 | train_acc: 1.0000 | val_loss: 0.1033 | val_acc: 0.9717 | learning_rate: 0.003000\n",
      "Epoch: 23 | train_loss: 0.0007 | train_acc: 1.0000 | val_loss: 0.1061 | val_acc: 0.9708 | learning_rate: 0.003000\n",
      "Epoch: 24 | train_loss: 0.0006 | train_acc: 1.0000 | val_loss: 0.1067 | val_acc: 0.9711 | learning_rate: 0.003000\n",
      "Epoch: 25 | train_loss: 0.0006 | train_acc: 1.0000 | val_loss: 0.1081 | val_acc: 0.9696 | learning_rate: 0.003000\n",
      "Epoch: 26 | train_loss: 0.0005 | train_acc: 1.0000 | val_loss: 0.1037 | val_acc: 0.9717 | learning_rate: 0.003000\n",
      "Epoch: 27 | train_loss: 0.0004 | train_acc: 1.0000 | val_loss: 0.1059 | val_acc: 0.9708 | learning_rate: 0.003000\n",
      "Epoch: 28 | train_loss: 0.0004 | train_acc: 1.0000 | val_loss: 0.1082 | val_acc: 0.9705 | learning_rate: 0.003000\n",
      "Epoch: 29 | train_loss: 0.0003 | train_acc: 1.0000 | val_loss: 0.1059 | val_acc: 0.9726 | learning_rate: 0.003000\n",
      "Epoch: 30 | train_loss: 0.0003 | train_acc: 1.0000 | val_loss: 0.1085 | val_acc: 0.9717 | learning_rate: 0.003000\n",
      "Epoch: 31 | train_loss: 0.0003 | train_acc: 1.0000 | val_loss: 0.1063 | val_acc: 0.9726 | learning_rate: 0.003000\n",
      "Epoch: 32 | train_loss: 0.0002 | train_acc: 1.0000 | val_loss: 0.1092 | val_acc: 0.9699 | learning_rate: 0.003000\n",
      "Epoch: 33 | train_loss: 0.0002 | train_acc: 1.0000 | val_loss: 0.1083 | val_acc: 0.9720 | learning_rate: 0.003000\n",
      "Epoch: 34 | train_loss: 0.0002 | train_acc: 1.0000 | val_loss: 0.1077 | val_acc: 0.9720 | learning_rate: 0.003000\n",
      "Epoch: 35 | train_loss: 0.0002 | train_acc: 1.0000 | val_loss: 0.1100 | val_acc: 0.9714 | learning_rate: 0.003000\n",
      "Epoch: 36 | train_loss: 0.0001 | train_acc: 1.0000 | val_loss: 0.1089 | val_acc: 0.9711 | learning_rate: 0.000300\n",
      "Epoch: 37 | train_loss: 0.0001 | train_acc: 1.0000 | val_loss: 0.1085 | val_acc: 0.9714 | learning_rate: 0.000300\n",
      "Epoch: 38 | train_loss: 0.0001 | train_acc: 1.0000 | val_loss: 0.1080 | val_acc: 0.9723 | learning_rate: 0.000300\n",
      "Epoch: 39 | train_loss: 0.0001 | train_acc: 1.0000 | val_loss: 0.1078 | val_acc: 0.9723 | learning_rate: 0.000300\n",
      "Epoch: 40 | train_loss: 0.0001 | train_acc: 1.0000 | val_loss: 0.1075 | val_acc: 0.9717 | learning_rate: 0.000300\n",
      "Epoch: 41 | train_loss: 0.0001 | train_acc: 1.0000 | val_loss: 0.1075 | val_acc: 0.9717 | learning_rate: 0.000300\n",
      "Epoch: 42 | train_loss: 0.0001 | train_acc: 1.0000 | val_loss: 0.1080 | val_acc: 0.9720 | learning_rate: 0.000300\n",
      "Epoch: 43 | train_loss: 0.0001 | train_acc: 1.0000 | val_loss: 0.1079 | val_acc: 0.9720 | learning_rate: 0.000300\n",
      "Epoch: 44 | train_loss: 0.0001 | train_acc: 1.0000 | val_loss: 0.1086 | val_acc: 0.9717 | learning_rate: 0.000300\n",
      "Validation accuracy has not improved for 15 epochs. Early stopping...\n"
     ]
    }
   ],
   "source": [
    "from going_modular.going_modular import engine\n",
    "# Create optimizer and loss function\n",
    "optimizer = torch.optim.Adam(params=pretrained_vit.parameters(), \n",
    "                             lr=3e-3)\n",
    "loss_fn = torch.nn.CrossEntropyLoss()\n",
    "\n",
    "# Train the classifier head of the pretrained ViT feature extractor model\n",
    "set_seeds(33)\n",
    "pretrained_vit_results, model = engine.train(model=pretrained_vit,\n",
    "                                      train_dataloader=train_dataloader_pretrained,\n",
    "                                      val_dataloader=val_dataloader_pretrained,\n",
    "                                      optimizer=optimizer,\n",
    "                                      loss_fn=loss_fn,\n",
    "                                      epochs=60,\n",
    "                                      patience=15,\n",
    "                                      lr_patience=12,\n",
    "                                      best_model_path='Results/Models/BestModel.pth',\n",
    "                                      device=device)"
   ]
  },
  {
   "cell_type": "code",
   "execution_count": 13,
   "id": "ed809d92-2dec-4597-8b07-fa0a7937a7b8",
   "metadata": {},
   "outputs": [
    {
     "data": {
      "image/png": "[encoded data removed]",
      "text/plain": [
       "<Figure size 640x480 with 1 Axes>"
      ]
     },
     "metadata": {},
     "output_type": "display_data"
    }
   ],
   "source": [
    "epochs = range(1, len(pretrained_vit_results['train_loss']) + 1)\n",
    "\n",
    "plt.plot(epochs, pretrained_vit_results['train_loss'], 'b-', label='Training loss')\n",
    "plt.plot(epochs, pretrained_vit_results['val_loss'], 'r-', label='Validation loss')\n",
    "plt.title('Training and validation loss')\n",
    "plt.xlabel('Epochs')\n",
    "plt.ylabel('Loss')\n",
    "plt.legend()\n",
    "plt.show()"
   ]
  },
  {
   "cell_type": "code",
   "execution_count": 14,
   "id": "2d05dbf4-ae4e-408d-a1ca-13f9e0148bae",
   "metadata": {},
   "outputs": [
    {
     "data": {
      "image/png": "[encoded data removed]",
      "text/plain": [
       "<Figure size 640x480 with 1 Axes>"
      ]
     },
     "metadata": {},
     "output_type": "display_data"
    }
   ],
   "source": [
    "epochs = range(1, len(pretrained_vit_results['train_acc']) + 1)\n",
    "\n",
    "plt.plot(epochs, pretrained_vit_results['train_acc'], 'b-', label='Training accuracy')\n",
    "plt.plot(epochs, pretrained_vit_results['val_acc'], 'r-', label='Validation accuracy')\n",
    "plt.title('Training and validation accuracy')\n",
    "plt.xlabel('Epochs')\n",
    "plt.ylabel('Accuracy')\n",
    "plt.legend()\n",
    "plt.show()"
   ]
  },
  {
   "cell_type": "code",
   "execution_count": 15,
   "id": "ee454045-6bf4-479b-b56b-c03e66654ada",
   "metadata": {},
   "outputs": [
    {
     "data": {
      "text/plain": [
       "VisionTransformer(\n",
       "  (conv_proj): Conv2d(3, 768, kernel_size=(16, 16), stride=(16, 16))\n",
       "  (encoder): Encoder(\n",
       "    (dropout): Dropout(p=0.0, inplace=False)\n",
       "    (layers): Sequential(\n",
       "      (encoder_layer_0): EncoderBlock(\n",
       "        (ln_1): LayerNorm((768,), eps=1e-06, elementwise_affine=True)\n",
       "        (self_attention): MultiheadAttention(\n",
       "          (out_proj): NonDynamicallyQuantizableLinear(in_features=768, out_features=768, bias=True)\n",
       "        )\n",
       "        (dropout): Dropout(p=0.0, inplace=False)\n",
       "        (ln_2): LayerNorm((768,), eps=1e-06, elementwise_affine=True)\n",
       "        (mlp): MLPBlock(\n",
       "          (0): Linear(in_features=768, out_features=3072, bias=True)\n",
       "          (1): GELU(approximate='none')\n",
       "          (2): Dropout(p=0.0, inplace=False)\n",
       "          (3): Linear(in_features=3072, out_features=768, bias=True)\n",
       "          (4): Dropout(p=0.0, inplace=False)\n",
       "        )\n",
       "      )\n",
       "      (encoder_layer_1): EncoderBlock(\n",
       "        (ln_1): LayerNorm((768,), eps=1e-06, elementwise_affine=True)\n",
       "        (self_attention): MultiheadAttention(\n",
       "          (out_proj): NonDynamicallyQuantizableLinear(in_features=768, out_features=768, bias=True)\n",
       "        )\n",
       "        (dropout): Dropout(p=0.0, inplace=False)\n",
       "        (ln_2): LayerNorm((768,), eps=1e-06, elementwise_affine=True)\n",
       "        (mlp): MLPBlock(\n",
       "          (0): Linear(in_features=768, out_features=3072, bias=True)\n",
       "          (1): GELU(approximate='none')\n",
       "          (2): Dropout(p=0.0, inplace=False)\n",
       "          (3): Linear(in_features=3072, out_features=768, bias=True)\n",
       "          (4): Dropout(p=0.0, inplace=False)\n",
       "        )\n",
       "      )\n",
       "      (encoder_layer_2): EncoderBlock(\n",
       "        (ln_1): LayerNorm((768,), eps=1e-06, elementwise_affine=True)\n",
       "        (self_attention): MultiheadAttention(\n",
       "          (out_proj): NonDynamicallyQuantizableLinear(in_features=768, out_features=768, bias=True)\n",
       "        )\n",
       "        (dropout): Dropout(p=0.0, inplace=False)\n",
       "        (ln_2): LayerNorm((768,), eps=1e-06, elementwise_affine=True)\n",
       "        (mlp): MLPBlock(\n",
       "          (0): Linear(in_features=768, out_features=3072, bias=True)\n",
       "          (1): GELU(approximate='none')\n",
       "          (2): Dropout(p=0.0, inplace=False)\n",
       "          (3): Linear(in_features=3072, out_features=768, bias=True)\n",
       "          (4): Dropout(p=0.0, inplace=False)\n",
       "        )\n",
       "      )\n",
       "      (encoder_layer_3): EncoderBlock(\n",
       "        (ln_1): LayerNorm((768,), eps=1e-06, elementwise_affine=True)\n",
       "        (self_attention): MultiheadAttention(\n",
       "          (out_proj): NonDynamicallyQuantizableLinear(in_features=768, out_features=768, bias=True)\n",
       "        )\n",
       "        (dropout): Dropout(p=0.0, inplace=False)\n",
       "        (ln_2): LayerNorm((768,), eps=1e-06, elementwise_affine=True)\n",
       "        (mlp): MLPBlock(\n",
       "          (0): Linear(in_features=768, out_features=3072, bias=True)\n",
       "          (1): GELU(approximate='none')\n",
       "          (2): Dropout(p=0.0, inplace=False)\n",
       "          (3): Linear(in_features=3072, out_features=768, bias=True)\n",
       "          (4): Dropout(p=0.0, inplace=False)\n",
       "        )\n",
       "      )\n",
       "      (encoder_layer_4): EncoderBlock(\n",
       "        (ln_1): LayerNorm((768,), eps=1e-06, elementwise_affine=True)\n",
       "        (self_attention): MultiheadAttention(\n",
       "          (out_proj): NonDynamicallyQuantizableLinear(in_features=768, out_features=768, bias=True)\n",
       "        )\n",
       "        (dropout): Dropout(p=0.0, inplace=False)\n",
       "        (ln_2): LayerNorm((768,), eps=1e-06, elementwise_affine=True)\n",
       "        (mlp): MLPBlock(\n",
       "          (0): Linear(in_features=768, out_features=3072, bias=True)\n",
       "          (1): GELU(approximate='none')\n",
       "          (2): Dropout(p=0.0, inplace=False)\n",
       "          (3): Linear(in_features=3072, out_features=768, bias=True)\n",
       "          (4): Dropout(p=0.0, inplace=False)\n",
       "        )\n",
       "      )\n",
       "      (encoder_layer_5): EncoderBlock(\n",
       "        (ln_1): LayerNorm((768,), eps=1e-06, elementwise_affine=True)\n",
       "        (self_attention): MultiheadAttention(\n",
       "          (out_proj): NonDynamicallyQuantizableLinear(in_features=768, out_features=768, bias=True)\n",
       "        )\n",
       "        (dropout): Dropout(p=0.0, inplace=False)\n",
       "        (ln_2): LayerNorm((768,), eps=1e-06, elementwise_affine=True)\n",
       "        (mlp): MLPBlock(\n",
       "          (0): Linear(in_features=768, out_features=3072, bias=True)\n",
       "          (1): GELU(approximate='none')\n",
       "          (2): Dropout(p=0.0, inplace=False)\n",
       "          (3): Linear(in_features=3072, out_features=768, bias=True)\n",
       "          (4): Dropout(p=0.0, inplace=False)\n",
       "        )\n",
       "      )\n",
       "      (encoder_layer_6): EncoderBlock(\n",
       "        (ln_1): LayerNorm((768,), eps=1e-06, elementwise_affine=True)\n",
       "        (self_attention): MultiheadAttention(\n",
       "          (out_proj): NonDynamicallyQuantizableLinear(in_features=768, out_features=768, bias=True)\n",
       "        )\n",
       "        (dropout): Dropout(p=0.0, inplace=False)\n",
       "        (ln_2): LayerNorm((768,), eps=1e-06, elementwise_affine=True)\n",
       "        (mlp): MLPBlock(\n",
       "          (0): Linear(in_features=768, out_features=3072, bias=True)\n",
       "          (1): GELU(approximate='none')\n",
       "          (2): Dropout(p=0.0, inplace=False)\n",
       "          (3): Linear(in_features=3072, out_features=768, bias=True)\n",
       "          (4): Dropout(p=0.0, inplace=False)\n",
       "        )\n",
       "      )\n",
       "      (encoder_layer_7): EncoderBlock(\n",
       "        (ln_1): LayerNorm((768,), eps=1e-06, elementwise_affine=True)\n",
       "        (self_attention): MultiheadAttention(\n",
       "          (out_proj): NonDynamicallyQuantizableLinear(in_features=768, out_features=768, bias=True)\n",
       "        )\n",
       "        (dropout): Dropout(p=0.0, inplace=False)\n",
       "        (ln_2): LayerNorm((768,), eps=1e-06, elementwise_affine=True)\n",
       "        (mlp): MLPBlock(\n",
       "          (0): Linear(in_features=768, out_features=3072, bias=True)\n",
       "          (1): GELU(approximate='none')\n",
       "          (2): Dropout(p=0.0, inplace=False)\n",
       "          (3): Linear(in_features=3072, out_features=768, bias=True)\n",
       "          (4): Dropout(p=0.0, inplace=False)\n",
       "        )\n",
       "      )\n",
       "      (encoder_layer_8): EncoderBlock(\n",
       "        (ln_1): LayerNorm((768,), eps=1e-06, elementwise_affine=True)\n",
       "        (self_attention): MultiheadAttention(\n",
       "          (out_proj): NonDynamicallyQuantizableLinear(in_features=768, out_features=768, bias=True)\n",
       "        )\n",
       "        (dropout): Dropout(p=0.0, inplace=False)\n",
       "        (ln_2): LayerNorm((768,), eps=1e-06, elementwise_affine=True)\n",
       "        (mlp): MLPBlock(\n",
       "          (0): Linear(in_features=768, out_features=3072, bias=True)\n",
       "          (1): GELU(approximate='none')\n",
       "          (2): Dropout(p=0.0, inplace=False)\n",
       "          (3): Linear(in_features=3072, out_features=768, bias=True)\n",
       "          (4): Dropout(p=0.0, inplace=False)\n",
       "        )\n",
       "      )\n",
       "      (encoder_layer_9): EncoderBlock(\n",
       "        (ln_1): LayerNorm((768,), eps=1e-06, elementwise_affine=True)\n",
       "        (self_attention): MultiheadAttention(\n",
       "          (out_proj): NonDynamicallyQuantizableLinear(in_features=768, out_features=768, bias=True)\n",
       "        )\n",
       "        (dropout): Dropout(p=0.0, inplace=False)\n",
       "        (ln_2): LayerNorm((768,), eps=1e-06, elementwise_affine=True)\n",
       "        (mlp): MLPBlock(\n",
       "          (0): Linear(in_features=768, out_features=3072, bias=True)\n",
       "          (1): GELU(approximate='none')\n",
       "          (2): Dropout(p=0.0, inplace=False)\n",
       "          (3): Linear(in_features=3072, out_features=768, bias=True)\n",
       "          (4): Dropout(p=0.0, inplace=False)\n",
       "        )\n",
       "      )\n",
       "      (encoder_layer_10): EncoderBlock(\n",
       "        (ln_1): LayerNorm((768,), eps=1e-06, elementwise_affine=True)\n",
       "        (self_attention): MultiheadAttention(\n",
       "          (out_proj): NonDynamicallyQuantizableLinear(in_features=768, out_features=768, bias=True)\n",
       "        )\n",
       "        (dropout): Dropout(p=0.0, inplace=False)\n",
       "        (ln_2): LayerNorm((768,), eps=1e-06, elementwise_affine=True)\n",
       "        (mlp): MLPBlock(\n",
       "          (0): Linear(in_features=768, out_features=3072, bias=True)\n",
       "          (1): GELU(approximate='none')\n",
       "          (2): Dropout(p=0.0, inplace=False)\n",
       "          (3): Linear(in_features=3072, out_features=768, bias=True)\n",
       "          (4): Dropout(p=0.0, inplace=False)\n",
       "        )\n",
       "      )\n",
       "      (encoder_layer_11): EncoderBlock(\n",
       "        (ln_1): LayerNorm((768,), eps=1e-06, elementwise_affine=True)\n",
       "        (self_attention): MultiheadAttention(\n",
       "          (out_proj): NonDynamicallyQuantizableLinear(in_features=768, out_features=768, bias=True)\n",
       "        )\n",
       "        (dropout): Dropout(p=0.0, inplace=False)\n",
       "        (ln_2): LayerNorm((768,), eps=1e-06, elementwise_affine=True)\n",
       "        (mlp): MLPBlock(\n",
       "          (0): Linear(in_features=768, out_features=3072, bias=True)\n",
       "          (1): GELU(approximate='none')\n",
       "          (2): Dropout(p=0.0, inplace=False)\n",
       "          (3): Linear(in_features=3072, out_features=768, bias=True)\n",
       "          (4): Dropout(p=0.0, inplace=False)\n",
       "        )\n",
       "      )\n",
       "    )\n",
       "    (ln): LayerNorm((768,), eps=1e-06, elementwise_affine=True)\n",
       "  )\n",
       "  (heads): Linear(in_features=768, out_features=100, bias=True)\n",
       ")"
      ]
     },
     "execution_count": 15,
     "metadata": {},
     "output_type": "execute_result"
    }
   ],
   "source": [
    "loaded_model = torch.load('Results/Models/BestModel.pth')\n",
    "\n",
    "# Switch the model to evaluation mode\n",
    "loaded_model.eval()"
   ]
  },
  {
   "cell_type": "markdown",
   "id": "81689414-aec7-44c3-b321-c28d891d8d89",
   "metadata": {},
   "source": [
    "<div style=\"border-radius:10px;\n",
    "            background-color:#ffffff;\n",
    "            letter-spacing:0.5px; text-align: center;\">\n",
    "\n",
    "<h2 style=\"padding: 5px 0px; color:#0b0265; font-weight: bold; font-family: Comic Sans MS\">\n",
    "Тестирање модела</h2>\n",
    "</div>"
   ]
  },
  {
   "cell_type": "code",
   "execution_count": 16,
   "id": "4e8f29f7-58d3-46be-ab86-500689302ba1",
   "metadata": {},
   "outputs": [
    {
     "name": "stdout",
     "output_type": "stream",
     "text": [
      "Test Loss: 0.1005, Test Accuracy: 0.9735\n"
     ]
    }
   ],
   "source": [
    "set_seeds(33)\n",
    "test_loss, test_acc = engine.test(model=loaded_model,\n",
    "                           test_dataloader=test_dataloader_pretrained,\n",
    "                           loss_fn=loss_fn,\n",
    "                           device=device)\n",
    "\n",
    "print(f\"Test Loss: {test_loss:.4f}, Test Accuracy: {test_acc:.4f}\")"
   ]
  },
  {
   "cell_type": "code",
   "execution_count": 17,
   "id": "7d9ba8f9-403a-4b67-b80a-921f5257c0fa",
   "metadata": {},
   "outputs": [],
   "source": [
    "import pickle\n",
    "\n",
    "# Save the pretrained_vit_results dictionary to disk\n",
    "with open('Results/Training results/pretrained_vit_results.pkl', 'wb') as f:\n",
    "    pickle.dump(pretrained_vit_results, f)"
   ]
  },
  {
   "cell_type": "code",
   "execution_count": 18,
   "id": "30c1f129-a5dc-4cfe-b29d-918193443438",
   "metadata": {},
   "outputs": [],
   "source": [
    "with open('Results/Training results/pretrained_vit_results.pkl', 'rb') as f:\n",
    "    loaded_pretrained_vit_results = pickle.load(f)"
   ]
  },
  {
   "cell_type": "code",
   "execution_count": null,
   "id": "d94124f4-41db-4a27-a94f-66e9bcca7d5c",
   "metadata": {},
   "outputs": [],
   "source": []
  }
 ],
 "metadata": {
  "kernelspec": {
   "display_name": "Python 3 (ipykernel)",
   "language": "python",
   "name": "python3"
  },
  "language_info": {
   "codemirror_mode": {
    "name": "ipython",
    "version": 3
   },
   "file_extension": ".py",
   "mimetype": "text/x-python",
   "name": "python",
   "nbconvert_exporter": "python",
   "pygments_lexer": "ipython3",
   "version": "3.8.18"
  }
 },
 "nbformat": 4,
 "nbformat_minor": 5
}
